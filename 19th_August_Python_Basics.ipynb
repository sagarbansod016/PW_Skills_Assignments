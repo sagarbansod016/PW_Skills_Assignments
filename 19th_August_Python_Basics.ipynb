{
 "cells": [
  {
   "cell_type": "code",
   "execution_count": 2,
   "id": "fe729052-3242-4171-9a44-76009cbed34c",
   "metadata": {},
   "outputs": [
    {
     "name": "stdout",
     "output_type": "stream",
     "text": [
      "x is 15 and y is 24\n"
     ]
    }
   ],
   "source": [
    "#Topic: Python Basic Variable: Que 1\n",
    "\n",
    "#Declaring first varaible x\n",
    "x = 24\n",
    "#Declaring second variable y\n",
    "y = 15\n",
    "\n",
    "#Swapping variables by assigning the value of x to y and value of y to x\n",
    "x,y = y,x\n",
    "\n",
    "#Display swapped values of x and y \n",
    "print(\"x is\", x, \"and y is\", y) \n"
   ]
  },
  {
   "cell_type": "code",
   "execution_count": 6,
   "id": "a8a79c8d-6ca8-46f9-bb5f-e97f0056196d",
   "metadata": {},
   "outputs": [
    {
     "name": "stdin",
     "output_type": "stream",
     "text": [
      "Enter length of the rectangle 10\n",
      "Enter breadth of the rectangle 12\n"
     ]
    },
    {
     "name": "stdout",
     "output_type": "stream",
     "text": [
      "Area is 120.0\n"
     ]
    }
   ],
   "source": [
    "#Topic: Python Basic Variable: Que 2\n",
    "\n",
    "#Taking input for length of the rectangle and converting it into float and storing it into 'l' variable\n",
    "l = float(input(\"Enter length of the rectangle\"))\n",
    "#Taking input for the width of the rectangle and converting it into float and storing it into 'w' variable\n",
    "w = float(input(\"Enter width of the rectangle\"))\n",
    "\n",
    "#Calculating area of the rectangle and storing it in variable 'area' \n",
    "area = l*b\n",
    "\n",
    "#Display calculated area of the rectangle\n",
    "print(\"Area is\", area)"
   ]
  },
  {
   "cell_type": "code",
   "execution_count": 7,
   "id": "52417479-3ce1-4a76-b48c-ab8c587316d9",
   "metadata": {},
   "outputs": [
    {
     "name": "stdin",
     "output_type": "stream",
     "text": [
      "Enter the temperature in Celsius 0\n"
     ]
    },
    {
     "name": "stdout",
     "output_type": "stream",
     "text": [
      "Temperature in fahrenheit is 32.0\n"
     ]
    }
   ],
   "source": [
    "#Topic: Python Basic Variable: Que 3\n",
    "\n",
    "#Taking input for temperature in Celsius units and converting it into float and store it in c variable \n",
    "c = float(input(\"Enter the temperature in Celsius\"))\n",
    "\n",
    "#Calculating temperature in fahrenheit and converting it into float and storing it in variable 'f'\n",
    "f = (9*c/5)+32\n",
    "\n",
    "#Display temperature in fahrenheit \n",
    "print(\"Temperature in fahrenheit is\", f)"
   ]
  },
  {
   "cell_type": "code",
   "execution_count": 1,
   "id": "e86de319-af86-4018-8eac-2af02c625c73",
   "metadata": {},
   "outputs": [
    {
     "name": "stdin",
     "output_type": "stream",
     "text": [
      "Enter the string happy\n"
     ]
    },
    {
     "name": "stdout",
     "output_type": "stream",
     "text": [
      "Length of the string is 5\n"
     ]
    }
   ],
   "source": [
    "#Topic: String Based Questions: Que 1\n",
    "\n",
    "#Taking input of a string from user\n",
    "newstr = input(\"Enter the string\")\n",
    "\n",
    "#len function gives length of the string \n",
    "n_str = len(newstr)\n",
    "\n",
    "#Display length of the string\n",
    "print(\"Length of the string is\",n_str)"
   ]
  },
  {
   "cell_type": "code",
   "execution_count": 1,
   "id": "0e3531f9-b8fd-40a0-91b0-31412832622d",
   "metadata": {},
   "outputs": [
    {
     "name": "stdin",
     "output_type": "stream",
     "text": [
      "Enter the sentence how are you?\n"
     ]
    },
    {
     "name": "stdout",
     "output_type": "stream",
     "text": [
      "Number of vowels in the sentence is/are 5\n"
     ]
    }
   ],
   "source": [
    "#Topic: String Based Questions: Que 2\n",
    "\n",
    "#Taking input of a sentence from user\n",
    "newsen = input(\"Enter the sentence\")\n",
    "\n",
    "#finding length of the string (sentence)\n",
    "n_sen = len(newsen)\n",
    "\n",
    "#Initialising no of vowels to be 0\n",
    "count = 0\n",
    "\n",
    "#Here a loop if created to iterate through each of the letter in the sentence and then first each letter is converted to small alphabet and then checked whether it is either from any of vowels [a,e,i,o,u] and for each letter found to be a vowel, count is incremented by one and hence at the end of the loop we get the no of vowels in the sentence\n",
    "#Declaration of for loop for a range of 0 to length of the string \n",
    "for i in range(0, n_sen):\n",
    "    \n",
    "    #This gives the character of the string at index i\n",
    "    letter = newsen[i]\n",
    "    \n",
    "    #This converts the character to small alphabet\n",
    "    letter = letter.lower()\n",
    "    \n",
    "    #This checks if the character is any from the list of vowels a, e, i, o, u\n",
    "    if letter in [\"a\", \"e\", \"i\", \"o\", \"u\"]:\n",
    "        \n",
    "        #This adds 1 to the count if above condition is satisfied\n",
    "        count = count+1\n",
    "        \n",
    "#Displays the count of no of vowels in the sentence        \n",
    "print(\"Number of vowels in the sentence is/are\", count)"
   ]
  },
  {
   "cell_type": "code",
   "execution_count": 2,
   "id": "0e0424cb-89dc-4b56-a438-45d88f0610b1",
   "metadata": {},
   "outputs": [
    {
     "name": "stdin",
     "output_type": "stream",
     "text": [
      "Enter the string how do you do...\n"
     ]
    },
    {
     "name": "stdout",
     "output_type": "stream",
     "text": [
      "...od uoy od woh\n"
     ]
    }
   ],
   "source": [
    "#Topic: String Based Questions: Que 3\n",
    "\n",
    "#Taking input of a string from user\n",
    "new2_str = input(\"Enter the string\")\n",
    "\n",
    "#This statement gives the string starting from end to start as the jump goes -1 i.e. backwards\n",
    "new2_flip = new2_str[::-1]\n",
    "\n",
    "#Displays the flipped string\n",
    "print(new2_flip)"
   ]
  },
  {
   "cell_type": "code",
   "execution_count": 3,
   "id": "cd2c601c-6942-4ef3-89d0-3012ed8e2a84",
   "metadata": {},
   "outputs": [
    {
     "name": "stdin",
     "output_type": "stream",
     "text": [
      "Enter a string nayan\n"
     ]
    },
    {
     "name": "stdout",
     "output_type": "stream",
     "text": [
      "String is a palindrome\n"
     ]
    }
   ],
   "source": [
    "#Topic: String Based Questions: Que 4\n",
    "\n",
    "#Taking input of a string from user\n",
    "new3_str = input(\"Enter a string\")\n",
    "\n",
    "#This statement gives the string starting from end to start as the jump goes -1 i.e. backwards\n",
    "new3_flip = new3_str[::-1]\n",
    "\n",
    "#This checks if the flipped and the original strings are same so that we will find whether the word is palindrome or not\n",
    "if new3_str == new3_flip:\n",
    "    \n",
    "    #This prints as 'String is a palindrome' if above conditon is met\n",
    "    print(\"String is a palindrome\")\n",
    "    \n",
    "else:\n",
    "    \n",
    "    #This prints 'String is not a palindrome' if above given condition is not met\n",
    "    print(\"String is not a palindrome\")"
   ]
  },
  {
   "cell_type": "code",
   "execution_count": null,
   "id": "bf030089-342a-4c60-a6a1-ce8997275313",
   "metadata": {},
   "outputs": [],
   "source": [
    "#Topic: String Based Questions: Que 5\n",
    "\n",
    "#Taking input of a string from user\n",
    "new4_str = input(\"Enter the string\")\n",
    "\n",
    "#This removes all the white spaces before the first character in the string all the white spaces after the last character in the string \n",
    "new4_rem = new4_str.strip()\n",
    "\n",
    "#This forms a list of all the words in the string separated by white spaces\n",
    "new4_words = new4_str.split()\n",
    "\n",
    "#Initialising the new required string as an empty string \n",
    "new4_format = \"\"\n",
    "\n",
    "#A loop is created for all the words in the list created above to concatenate all the words and form a new string and assign it to the string initialised just above\n",
    "#This creates a for loop and iterated for all elements in the list created from words of the original string \n",
    "for word in new4_words:\n",
    "    \n",
    "    #Adds the word to the list initialised  \n",
    "    new4_format = new4_format + word\n",
    "    \n",
    "#Displays the string with all spaces removed\n",
    "print(new4_format)"
   ]
  },
  {
   "cell_type": "code",
   "execution_count": null,
   "id": "296963fe-e233-445b-848a-ac752ed02c32",
   "metadata": {},
   "outputs": [],
   "source": []
  }
 ],
 "metadata": {
  "kernelspec": {
   "display_name": "Python 3 (ipykernel)",
   "language": "python",
   "name": "python3"
  },
  "language_info": {
   "codemirror_mode": {
    "name": "ipython",
    "version": 3
   },
   "file_extension": ".py",
   "mimetype": "text/x-python",
   "name": "python",
   "nbconvert_exporter": "python",
   "pygments_lexer": "ipython3",
   "version": "3.10.8"
  }
 },
 "nbformat": 4,
 "nbformat_minor": 5
}
