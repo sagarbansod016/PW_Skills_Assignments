{
 "cells": [
  {
   "cell_type": "code",
   "execution_count": 1,
   "id": "c3222ff2-b27a-4566-9c26-e5cfabc8fb7d",
   "metadata": {},
   "outputs": [
    {
     "data": {
      "text/plain": [
       "True"
      ]
     },
     "execution_count": 1,
     "metadata": {},
     "output_type": "execute_result"
    }
   ],
   "source": [
    "# Question 1 - To check for duplicates in the array\n",
    "\n",
    "#Method definition\n",
    "def checkduplicate(arr):\n",
    "    for i in arr:\n",
    "        #creating a copy of the array for checking duplicate\n",
    "        array = arr.copy()\n",
    "        #removing the element from the array which is to be checked for duplicate\n",
    "        array.remove(i)\n",
    "        #checking if the duplicate of removed element is there in the array and return True if it exists \n",
    "        if i in arr:\n",
    "            return True\n",
    "    #if no duplicates are found False will be the output\n",
    "    return False\n",
    "\n",
    "\n",
    "#Driver code\n",
    "arr = [1, 2, 4, 2, 5, 9]\n",
    "checkduplicate(arr)"
   ]
  },
  {
   "cell_type": "code",
   "execution_count": 8,
   "id": "c3e5c23f-4208-4bf2-b271-9d1fea052ccb",
   "metadata": {},
   "outputs": [
    {
     "data": {
      "text/plain": [
       "[5, 6, 7, 1, 2, 3, 4]"
      ]
     },
     "execution_count": 8,
     "metadata": {},
     "output_type": "execute_result"
    }
   ],
   "source": [
    "# Question 2 - To rotate the array by k steps\n",
    "\n",
    "#Method definition\n",
    "def rotatearray(arr, k:int):\n",
    "    #creating a blank array\n",
    "    array = []\n",
    "    #adding elements at the end of the original array to start of the new array for rotation \n",
    "    for i in range(len(arr)-k, len(arr)):\n",
    "        array.append(arr[i])\n",
    "    #adding elements at the start of the original array to end of the new array for rotation \n",
    "    for j in range(len(arr)-k):\n",
    "        array.append(arr[j])\n",
    "    return array\n",
    "\n",
    "\n",
    "#Driver code\n",
    "arr = [1, 2, 3, 4, 5, 6, 7]\n",
    "k = 3\n",
    "# constraint: k <= len(arr)\n",
    "rotatearray(arr, k)"
   ]
  },
  {
   "cell_type": "code",
   "execution_count": 3,
   "id": "ab9d6635-776b-4ad6-b2d1-20a41ae8d488",
   "metadata": {},
   "outputs": [
    {
     "data": {
      "text/plain": [
       "[12, 9, 7, 5, 4, 2]"
      ]
     },
     "execution_count": 3,
     "metadata": {},
     "output_type": "execute_result"
    }
   ],
   "source": [
    "# Question 3 - To reverse the array\n",
    "\n",
    "#Method definition\n",
    "def reversearray(arr):\n",
    "    #reversing the array using index slicing\n",
    "    return arr[::-1]\n",
    "    \n",
    "    \n",
    "#Driver code\n",
    "arr = [2, 4, 5, 7, 9, 12]\n",
    "reversearray(arr)"
   ]
  },
  {
   "cell_type": "code",
   "execution_count": 4,
   "id": "fc77cd4e-5618-472c-aa70-bf974678a3c7",
   "metadata": {},
   "outputs": [
    {
     "data": {
      "text/plain": [
       "20"
      ]
     },
     "execution_count": 4,
     "metadata": {},
     "output_type": "execute_result"
    }
   ],
   "source": [
    "# Question 4 - To find the maximum element in the array\n",
    "\n",
    "#Method definition\n",
    "def maxelement(arr):\n",
    "    #initialising maxnumber as None\n",
    "    maxnumber = None\n",
    "    #when maxnumber is None, 1st element will be assigned as the maxnumber and then every element will be checked if the element is greater than the maxnumber and will be assigned as the max number if it is greater than the maxnumber'''\n",
    "    for i in arr:\n",
    "        if maxnumber == None:\n",
    "            maxnumber = i\n",
    "        else:\n",
    "            if maxnumber < i:\n",
    "                maxnumber = i\n",
    "    return maxnumber\n",
    "\n",
    "\n",
    "#Driver code\n",
    "arr = [10, 5, 20, 8, 15]\n",
    "maxelement(arr)"
   ]
  },
  {
   "cell_type": "code",
   "execution_count": 5,
   "id": "c26bddc0-9113-4eb3-8283-b8bb4ca2c158",
   "metadata": {},
   "outputs": [
    {
     "data": {
      "text/plain": [
       "[1, 2, 3, 4, 5]"
      ]
     },
     "execution_count": 5,
     "metadata": {},
     "output_type": "execute_result"
    }
   ],
   "source": [
    "# Question 5 - To remove duplicates in a sorted array\n",
    "\n",
    "#Method definition\n",
    "def removeduplicate(arr):\n",
    "    i = 0\n",
    "    while i < len(arr)-1:\n",
    "        j = i+1\n",
    "        #check if next element to ith element is same as ith element and remove it if it is same and check again for the next element and if it is not same then move to the (i+1)th element until the second last element\n",
    "        while j < len(arr):\n",
    "            if arr[i] == arr[j]:\n",
    "                arr.pop(j)\n",
    "            else:\n",
    "                break\n",
    "        i += 1\n",
    "    return arr\n",
    "     \n",
    "    \n",
    "#Driver code\n",
    "arr = [1, 1, 2, 2, 2, 3, 3, 4, 4, 4, 5, 5]\n",
    "removeduplicate(arr)"
   ]
  },
  {
   "cell_type": "code",
   "execution_count": null,
   "id": "e7d0347f-c294-49de-8133-3864889ad5e6",
   "metadata": {},
   "outputs": [],
   "source": []
  },
  {
   "cell_type": "code",
   "execution_count": null,
   "id": "8b4b9ccc-e357-492d-9050-2adde40490a5",
   "metadata": {},
   "outputs": [],
   "source": []
  }
 ],
 "metadata": {
  "kernelspec": {
   "display_name": "Python 3 (ipykernel)",
   "language": "python",
   "name": "python3"
  },
  "language_info": {
   "codemirror_mode": {
    "name": "ipython",
    "version": 3
   },
   "file_extension": ".py",
   "mimetype": "text/x-python",
   "name": "python",
   "nbconvert_exporter": "python",
   "pygments_lexer": "ipython3",
   "version": "3.10.8"
  }
 },
 "nbformat": 4,
 "nbformat_minor": 5
}
